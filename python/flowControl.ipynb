{
 "cells": [
  {
   "cell_type": "markdown",
   "metadata": {
    "id": "TuYPKd9uoXA5"
   },
   "source": [
    "# COURSE:deep learning\n",
    "## SECTION: Introduction to Python: flow control\n",
    "#### TEACHER: Mário Corrêa"
   ]
  },
  {
   "cell_type": "markdown",
   "metadata": {
    "id": "UY3B-6hxoXA7"
   },
   "source": [
    "# .\n",
    "# .\n",
    "# ."
   ]
  },
  {
   "cell_type": "markdown",
   "metadata": {
    "id": "dOPE-7WroXA8"
   },
   "source": [
    "#  If-else statements"
   ]
  },
  {
   "cell_type": "code",
   "execution_count": null,
   "metadata": {
    "id": "OuEaijwOoXA9"
   },
   "outputs": [],
   "source": [
    "if True:\n",
    "    print('True is true')\n"
   ]
  },
  {
   "cell_type": "code",
   "execution_count": null,
   "metadata": {
    "id": "VxeIFlA0oXBC"
   },
   "outputs": [],
   "source": [
    "if False:\n",
    "    print('False is true')"
   ]
  },
  {
   "cell_type": "code",
   "execution_count": null,
   "metadata": {
    "id": "qeOg1O4coXBG"
   },
   "outputs": [],
   "source": [
    "if 4==4:\n",
    "    print('hello')"
   ]
  },
  {
   "cell_type": "code",
   "execution_count": null,
   "metadata": {
    "id": "lSAGYC2EoXBJ"
   },
   "outputs": [],
   "source": [
    "import numpy as np\n",
    "\n",
    "randnum = np.random.randn(1)\n",
    "\n",
    "if randnum>0:\n",
    "    print(randnum)"
   ]
  },
  {
   "cell_type": "code",
   "execution_count": null,
   "metadata": {
    "id": "68dvdiAxoXBM"
   },
   "outputs": [],
   "source": [
    "randnum = np.random.randn()\n",
    "\n",
    "if randnum>0:\n",
    "    print(str(randnum) + ' is positive')\n",
    "else:\n",
    "    print(str(randnum) + ' is negative')\n"
   ]
  },
  {
   "cell_type": "code",
   "execution_count": null,
   "metadata": {
    "id": "-5zH_Kv-oXBP"
   },
   "outputs": [],
   "source": [
    "# slightly better coding\n",
    "\n",
    "randnum = np.random.randn()\n",
    "\n",
    "if randnum>0:\n",
    "    outcome = 'positive'\n",
    "else:\n",
    "    outcome = 'negative'\n",
    "\n",
    "print(str(randnum) + ' is ' + outcome)"
   ]
  },
  {
   "cell_type": "code",
   "execution_count": null,
   "metadata": {
    "id": "l1EgmNknoXBS"
   },
   "outputs": [],
   "source": [
    "caketype = 'fuba'\n",
    "\n",
    "if caketype=='fuba':\n",
    "    print('Muito bom!')\n",
    "elif caketype=='chocolate':\n",
    "    print('Maravilha!')\n",
    "elif caketype=='fruit':\n",
    "    print('Será que eu quero???')\n",
    "else:\n",
    "    print(\"OK, Vou experimentar.\")"
   ]
  },
  {
   "cell_type": "code",
   "execution_count": null,
   "metadata": {
    "id": "LrENploXoXBV"
   },
   "outputs": [],
   "source": [
    "# one-liners\n",
    "caketype = 'Cenoura'\n",
    "\n",
    "if caketype[0]=='c': print('Provavelmente bolo de cenoura (Primeira Linha).') \n",
    "\n",
    "print('Provavelmente bolo de cenoura.') if caketype[0]=='c' else print('Ou não. Como saber??')"
   ]
  },
  {
   "cell_type": "code",
   "execution_count": null,
   "metadata": {
    "id": "ofim2o0BrMhu"
   },
   "outputs": [],
   "source": [
    "# conjunctive conditionals\n",
    "if 1<3 and 4==4:\n",
    "    print('Both conditionals are true')\n",
    "else:\n",
    "    print('At least one condition is false')"
   ]
  },
  {
   "cell_type": "markdown",
   "metadata": {
    "id": "JX0puAfvoXBX"
   },
   "source": [
    "### Exercise"
   ]
  },
  {
   "cell_type": "code",
   "execution_count": null,
   "metadata": {
    "id": "61PD9LGLoXBY"
   },
   "outputs": [],
   "source": [
    "# create a dot product function\n",
    "# function checks that both inputs are numpy arrays (hint: isinstance())\n",
    "# function checks for same length of two input vectors\n",
    "# returns dot product if pass, useful error message otherwise"
   ]
  },
  {
   "cell_type": "code",
   "execution_count": null,
   "metadata": {
    "id": "upayEav4oXBa"
   },
   "outputs": [],
   "source": [
    "def dotproduct(a,b):\n",
    "    # check that both vectors are numpy arrays\n",
    "    if not (isinstance(a,np.ndarray) and isinstance(b,np.ndarray)):\n",
    "        raise Exception('Must be numpy array')\n",
    "\n",
    "    # check that they have the same length\n",
    "    if not len(a)==len(b):\n",
    "        raise Exception('Must be the same length')\n",
    "    \n",
    "    # return the dot product\n",
    "    return sum(a*b)"
   ]
  },
  {
   "cell_type": "code",
   "execution_count": null,
   "metadata": {
    "id": "QHe29i0rtUZS"
   },
   "outputs": [],
   "source": [
    "v = np.array([1,2,3,4]) # error when list\n",
    "w = np.array([3,4,5,1])\n",
    "\n",
    "print(dotproduct(v,w))\n",
    "print(np.dot(v,w))"
   ]
  },
  {
   "cell_type": "markdown",
   "metadata": {
    "id": "T1lQoKU0oXBc"
   },
   "source": [
    "# .\n",
    "# .\n",
    "# ."
   ]
  },
  {
   "cell_type": "markdown",
   "metadata": {
    "id": "gDhI5J8hoXBd"
   },
   "source": [
    "#  For loops"
   ]
  },
  {
   "cell_type": "code",
   "execution_count": null,
   "metadata": {
    "id": "7fs4yjRUoXBd"
   },
   "outputs": [],
   "source": [
    "for i in range(6):\n",
    "    print(i)"
   ]
  },
  {
   "cell_type": "code",
   "execution_count": null,
   "metadata": {
    "id": "Ft-3xKKdoXBg"
   },
   "outputs": [],
   "source": [
    "for i in range(4,10):\n",
    "    print(i,i**2)"
   ]
  },
  {
   "cell_type": "code",
   "execution_count": null,
   "metadata": {
    "id": "DPcS8S1XoXBi"
   },
   "outputs": [],
   "source": [
    "numbers = np.linspace(3,17,22)\n",
    "\n",
    "for i in range(len(numbers)):\n",
    "    x = numbers[i]\n",
    "    print('Iteration ' + str(i) + ' has a value of ' + str(x))"
   ]
  },
  {
   "cell_type": "code",
   "execution_count": null,
   "metadata": {
    "id": "Px51eEPWoXBl"
   },
   "outputs": [],
   "source": [
    "for n in range(18):\n",
    "    if n%2==0:\n",
    "        print(str(n) + ' is an even number.')\n",
    "    else:\n",
    "        print(str(n) + ' is an odd number.')"
   ]
  },
  {
   "cell_type": "code",
   "execution_count": null,
   "metadata": {
    "id": "x2q8LSbGoXBn"
   },
   "outputs": [],
   "source": [
    "# soft- vs. hard-coding\n",
    "\n",
    "iterations = 100\n",
    "\n",
    "for i in range(iterations):\n",
    "    pass\n",
    "\n",
    "for i in range(100):\n",
    "    pass\n"
   ]
  },
  {
   "cell_type": "markdown",
   "metadata": {
    "id": "cuJZZOAXoXBy"
   },
   "source": [
    "### Exercise"
   ]
  },
  {
   "cell_type": "code",
   "execution_count": null,
   "metadata": {
    "id": "9RMTgsb6oXBy"
   },
   "outputs": [],
   "source": [
    "# create a function that reports the Fibonacci series for n+3 numbers\n",
    "\n",
    "def fibseq(n):\n",
    "    v = [0,1,1]\n",
    "    for i in range(n):\n",
    "        v.append(sum(v[-2:]))\n",
    "    print(v)\n"
   ]
  },
  {
   "cell_type": "code",
   "execution_count": null,
   "metadata": {
    "id": "lhtKPGZDzwm-"
   },
   "outputs": [],
   "source": [
    "fibseq(10)"
   ]
  },
  {
   "cell_type": "markdown",
   "metadata": {
    "id": "SIhNtPix0pgE"
   },
   "source": [
    "# .\n",
    "# .\n",
    "# ."
   ]
  },
  {
   "cell_type": "markdown",
   "metadata": {
    "id": "viKKWc4EtrfR"
   },
   "source": [
    "# While loop"
   ]
  },
  {
   "cell_type": "code",
   "execution_count": null,
   "metadata": {
    "id": "PJ8qJ_rwtu_p"
   },
   "outputs": [],
   "source": [
    "toggle = True\n",
    "i = 0\n",
    "\n",
    "while toggle:\n",
    "  print(i)\n",
    "  i += 1\n",
    "\n",
    "  if i==8:\n",
    "    toggle = False\n"
   ]
  },
  {
   "cell_type": "code",
   "execution_count": null,
   "metadata": {
    "id": "ZJDTxDfQt7xJ"
   },
   "outputs": [],
   "source": [
    "toggle = True\n",
    "i = 0\n",
    "\n",
    "while toggle:\n",
    "  print(i)\n",
    "\n",
    "  if i==8:\n",
    "    toggle = False\n",
    "  i += 1\n"
   ]
  },
  {
   "cell_type": "code",
   "execution_count": null,
   "metadata": {
    "id": "Br-lotfWuCQo"
   },
   "outputs": [],
   "source": [
    "toggle = True\n",
    "i = 0\n",
    "\n",
    "while toggle:\n",
    "  print(i)\n",
    "\n",
    "  if i==8:\n",
    "    i += 1\n",
    "    toggle = False\n"
   ]
  },
  {
   "cell_type": "code",
   "execution_count": null,
   "metadata": {
    "id": "aQV_aN8LuL5w"
   },
   "outputs": [],
   "source": [
    "i = 0\n",
    "while True:\n",
    "  print(i)\n",
    "  i += 1\n",
    "  if i==8:\n",
    "    break\n"
   ]
  },
  {
   "cell_type": "code",
   "execution_count": null,
   "metadata": {
    "id": "b1i_VzpduYCg"
   },
   "outputs": [],
   "source": [
    "i = 0\n",
    "while i<8:\n",
    "  print(i)\n",
    "  i += 1\n"
   ]
  },
  {
   "cell_type": "code",
   "execution_count": null,
   "metadata": {
    "id": "1YRGDI35usVW"
   },
   "outputs": [],
   "source": [
    "# prefer a for-loop when you know the number of iterations in advance\n",
    "# prefer a while loop when you don't know the number of iterations in advance"
   ]
  },
  {
   "cell_type": "code",
   "execution_count": null,
   "metadata": {
    "id": "3gTzI99zunKX"
   },
   "outputs": [],
   "source": [
    "# Exercise: Make a Poisson-like counter. repeat 100 times\n",
    "\n",
    "# parameter lambda, positive number (10)\n",
    "# start at 1, multiply by uniform-random number, count iterations until e(-l)\n"
   ]
  },
  {
   "cell_type": "code",
   "execution_count": null,
   "metadata": {
    "id": "dQhP7IT9uz-X"
   },
   "outputs": [],
   "source": [
    "import numpy as np\n",
    "\n",
    "def poissonCounter(lam):\n",
    "\n",
    "  # initialize\n",
    "  counter,currval = 0,1\n",
    "  target = np.exp(-lam)\n",
    "\n",
    "  # run algorithm (using while vs if)\n",
    "  while currval>target:\n",
    "    counter += 1\n",
    "    currval *= np.random.rand()\n",
    "  \n",
    "  # return result\n",
    "  return counter\n",
    "\n"
   ]
  },
  {
   "cell_type": "code",
   "execution_count": null,
   "metadata": {
    "id": "68EyWZsyvzyd"
   },
   "outputs": [],
   "source": [
    "poissonCounter(10)\n"
   ]
  },
  {
   "cell_type": "code",
   "execution_count": null,
   "metadata": {
    "id": "vFwJxYTNwl2j"
   },
   "outputs": [],
   "source": [
    "poissonRand = np.zeros(100)\n",
    "\n",
    "for i in range(100):\n",
    "  poissonRand[i] = poissonCounter(10)\n",
    "\n",
    "poissonRand"
   ]
  },
  {
   "cell_type": "code",
   "execution_count": null,
   "metadata": {
    "id": "g6_lgoHPxLXL"
   },
   "outputs": [],
   "source": [
    "# same functionality but harder to read\n",
    "def poissonCounter(l):\n",
    "  k,p,t = 0,1,np.exp(-l)\n",
    "  while p>t:\n",
    "    k += 1\n",
    "    p *= np.random.rand()\n",
    "  return k\n",
    "\n",
    "# appeal of compactness, maybe intentional\n",
    "# problems:\n",
    "#  1. harder to read\n",
    "#  2. harder to find bugs\n",
    "#  3. harder to modify\n",
    "# don't pay by character"
   ]
  },
  {
   "cell_type": "markdown",
   "metadata": {
    "id": "clOgqR4SyvFC"
   },
   "source": [
    "# .\n",
    "# .\n",
    "# ."
   ]
  },
  {
   "cell_type": "markdown",
   "metadata": {
    "id": "SgjJ3i3UItXi"
   },
   "source": [
    "# Initializing variables"
   ]
  },
  {
   "cell_type": "code",
   "execution_count": null,
   "metadata": {
    "id": "BTGB8h8LIyDn"
   },
   "outputs": [],
   "source": [
    "for i in range(10):\n",
    "  r[i] = i**2\n",
    "\n",
    "print(r)"
   ]
  },
  {
   "cell_type": "code",
   "execution_count": null,
   "metadata": {
    "id": "sNUDHoYaI7KP"
   },
   "outputs": [],
   "source": [
    "import numpy as np\n",
    "\n",
    "r = np.zeros(10)\n",
    "r = np.full(10,0)\n",
    "for i in range(10):\n",
    "  r[i] = i**2\n",
    "\n",
    "print(r)"
   ]
  },
  {
   "cell_type": "code",
   "execution_count": null,
   "metadata": {
    "id": "EJvIfvgiJBJf"
   },
   "outputs": [],
   "source": [
    "del r\n",
    "\n",
    "r = []\n",
    "for i in range(10):\n",
    "  r.append(i**2)\n",
    "\n",
    "print(r)"
   ]
  },
  {
   "cell_type": "code",
   "execution_count": null,
   "metadata": {
    "id": "1rvU1E8cJdwW"
   },
   "outputs": [],
   "source": [
    "r = np.array([])\n",
    "for i in range(10):\n",
    "  r = np.append(r,i**2)\n",
    "\n",
    "print(r)"
   ]
  },
  {
   "cell_type": "code",
   "execution_count": null,
   "metadata": {
    "id": "YxlseuNEOAmo"
   },
   "outputs": [],
   "source": [
    "r = np.zeros((4,5))\n",
    "r[3,4] = 1\n",
    "r[6,4] = 1\n",
    "\n",
    "print(r)"
   ]
  },
  {
   "cell_type": "code",
   "execution_count": null,
   "metadata": {
    "id": "6uHETCTX4-68"
   },
   "outputs": [],
   "source": [
    "r = 4\n",
    "del r\n",
    "\n",
    "del r\n",
    "\n",
    "try:\n",
    "  del r\n",
    "except:\n",
    "  pass"
   ]
  },
  {
   "cell_type": "code",
   "execution_count": null,
   "metadata": {
    "id": "9wx7_Of5KPck"
   },
   "outputs": [],
   "source": [
    "# Exercise: time all three methods! (append, np.append, initialize)\n",
    "# import time\n",
    "# time.perf_counter()\n",
    "\n",
    "import time\n",
    "\n",
    "t = [0]*3\n",
    "N = 10000\n",
    "\n",
    "tic = time.perf_counter()\n",
    "r = []\n",
    "for i in range(N):\n",
    "  r.append(i**2)\n",
    "t[0] = (time.perf_counter() - tic)*1000\n",
    "\n",
    "\n",
    "tic = time.perf_counter()\n",
    "r = np.zeros(N)\n",
    "for i in range(N):\n",
    "  r[i] = i**2\n",
    "t[1] = (time.perf_counter() - tic)*1000\n",
    "\n",
    "\n",
    "tic = time.perf_counter()\n",
    "r = np.array([])\n",
    "for i in range(N):\n",
    "  r = np.append(r,i**2)\n",
    "t[2] = (time.perf_counter() - tic)*1000\n",
    "\n",
    "\n",
    "print(t) # in ms"
   ]
  },
  {
   "cell_type": "code",
   "execution_count": null,
   "metadata": {
    "id": "MShgFgk1NdM1"
   },
   "outputs": [],
   "source": []
  },
  {
   "cell_type": "code",
   "execution_count": null,
   "metadata": {
    "id": "B9wQzzYpNdiH"
   },
   "outputs": [],
   "source": []
  },
  {
   "cell_type": "code",
   "execution_count": null,
   "metadata": {
    "id": "MudOLcIkNd-c"
   },
   "outputs": [],
   "source": []
  },
  {
   "cell_type": "markdown",
   "metadata": {
    "id": "tA4dqYBFz-uP"
   },
   "source": [
    "# Enumerate and zip"
   ]
  },
  {
   "cell_type": "code",
   "execution_count": null,
   "metadata": {
    "id": "QwkT5TVnsVqr"
   },
   "outputs": [],
   "source": [
    "# enumerate\n",
    "import numpy as np\n",
    "\n",
    "somenumbers = np.linspace(-5,5,7)\n",
    "\n",
    "for i in range(len(somenumbers)):\n",
    "  print('Index ' + str(i) + ' has value ' + str(somenumbers[i]))\n",
    "\n",
    "for i,n in enumerate(somenumbers):\n",
    "  print('Index ' + str(i) + ' has value ' + str(n))"
   ]
  },
  {
   "cell_type": "code",
   "execution_count": null,
   "metadata": {
    "colab": {
     "base_uri": "https://localhost:8080/"
    },
    "executionInfo": {
     "elapsed": 501,
     "status": "ok",
     "timestamp": 1621680828431,
     "user": {
      "displayName": "Mike X Cohen",
      "photoUrl": "https://lh3.googleusercontent.com/a-/AOh14GhjXSur8ulydyiQQEh2U6pYGIhDN22fqYYNNDg49A=s64",
      "userId": "13901636194183843661"
     },
     "user_tz": -120
    },
    "id": "CBTkTS8rs_uG",
    "outputId": "11c2d5f0-1b9b-4a34-ed16-cc9bc1cebc09"
   },
   "outputs": [],
   "source": [
    "text = 'Hello my name is Mike'\n",
    "\n",
    "vowels = np.zeros(len(text))\n",
    "\n",
    "for i,l in enumerate(text):\n",
    "  if l in 'aeiou':\n",
    "    vowels[i] = 1\n",
    "\n",
    "vowels"
   ]
  },
  {
   "cell_type": "code",
   "execution_count": null,
   "metadata": {
    "id": "Z1rLpWp40BgG"
   },
   "outputs": [],
   "source": [
    "somelist = [3,5,4,2,4]\n",
    "otherlist = ['d','e','r','s','x']\n",
    "\n",
    "for i in range(len(somelist)):\n",
    "  print(otherlist[i] + ' ' + str(somelist[i]))\n"
   ]
  },
  {
   "cell_type": "code",
   "execution_count": null,
   "metadata": {
    "id": "widna8GK0ZPW"
   },
   "outputs": [],
   "source": [
    "\n",
    "for j,i in zip(somelist,otherlist):\n",
    "  print(i,j)"
   ]
  },
  {
   "cell_type": "code",
   "execution_count": null,
   "metadata": {
    "id": "_e8-qtsh0Br-"
   },
   "outputs": [],
   "source": [
    "z = zip(somelist,otherlist)\n",
    "z # z[0]"
   ]
  },
  {
   "cell_type": "code",
   "execution_count": null,
   "metadata": {
    "id": "hbdDcgbG1U4D"
   },
   "outputs": [],
   "source": [
    "print(z) # empty after running twice\n",
    "list(z)"
   ]
  },
  {
   "cell_type": "code",
   "execution_count": null,
   "metadata": {
    "id": "1yq0Sg9J0BvT"
   },
   "outputs": [],
   "source": [
    "lz = list(z)\n",
    "lz"
   ]
  },
  {
   "cell_type": "code",
   "execution_count": null,
   "metadata": {
    "id": "kz6syMzh2IWi"
   },
   "outputs": [],
   "source": [
    "lz[0][0]"
   ]
  },
  {
   "cell_type": "code",
   "execution_count": null,
   "metadata": {
    "colab": {
     "base_uri": "https://localhost:8080/"
    },
    "executionInfo": {
     "elapsed": 957,
     "status": "ok",
     "timestamp": 1621681205109,
     "user": {
      "displayName": "Mike X Cohen",
      "photoUrl": "https://lh3.googleusercontent.com/a-/AOh14GhjXSur8ulydyiQQEh2U6pYGIhDN22fqYYNNDg49A=s64",
      "userId": "13901636194183843661"
     },
     "user_tz": -120
    },
    "id": "1ZVmlz0d2IZi",
    "outputId": "de9a924d-1e02-47fa-a375-1e5c262ef82f"
   },
   "outputs": [],
   "source": [
    "somelist = [3,5,4,2,4]\n",
    "otherlist = ['d','e']\n",
    "\n",
    "for i,j in zip(somelist,otherlist):\n",
    "  print(i,j)"
   ]
  },
  {
   "cell_type": "code",
   "execution_count": null,
   "metadata": {
    "colab": {
     "base_uri": "https://localhost:8080/"
    },
    "executionInfo": {
     "elapsed": 333,
     "status": "ok",
     "timestamp": 1621680985002,
     "user": {
      "displayName": "Mike X Cohen",
      "photoUrl": "https://lh3.googleusercontent.com/a-/AOh14GhjXSur8ulydyiQQEh2U6pYGIhDN22fqYYNNDg49A=s64",
      "userId": "13901636194183843661"
     },
     "user_tz": -120
    },
    "id": "rwt7n9ZG2IdR",
    "outputId": "ba3abcef-f556-4a2a-b99a-c8fc45289509"
   },
   "outputs": [],
   "source": [
    "# Exercise: given these two lists, create a dictionary using zip\n",
    "names = ['alpha','beta','gamma']\n",
    "values = [10,20,40]\n",
    "\n",
    "D = dict(zip(names,values))\n",
    "print(D)\n",
    "D['gamma']"
   ]
  },
  {
   "cell_type": "code",
   "execution_count": null,
   "metadata": {
    "id": "-GK1u2GhPms6"
   },
   "outputs": [],
   "source": []
  },
  {
   "cell_type": "code",
   "execution_count": null,
   "metadata": {
    "id": "qYklcACPPmvy"
   },
   "outputs": [],
   "source": []
  },
  {
   "cell_type": "code",
   "execution_count": null,
   "metadata": {
    "id": "CDTflEQMPmyq"
   },
   "outputs": [],
   "source": []
  },
  {
   "cell_type": "code",
   "execution_count": null,
   "metadata": {
    "colab": {
     "base_uri": "https://localhost:8080/",
     "height": 34
    },
    "executionInfo": {
     "elapsed": 5563,
     "status": "ok",
     "timestamp": 1598302781785,
     "user": {
      "displayName": "Mike X Cohen",
      "photoUrl": "https://lh3.googleusercontent.com/a-/AOh14GhjXSur8ulydyiQQEh2U6pYGIhDN22fqYYNNDg49A=s64",
      "userId": "13901636194183843661"
     },
     "user_tz": -120
    },
    "id": "CLi8zc8PPalT",
    "outputId": "65793fc8-a82f-4505-8181-f4ac2e1a1418"
   },
   "outputs": [],
   "source": [
    "# now try/except\n",
    "def fun(x,y):\n",
    "  try:\n",
    "    return x**y\n",
    "  except:\n",
    "    print(\"Couldn't complete the mission.\")\n",
    "\n",
    "fun(3,'asdf')"
   ]
  },
  {
   "cell_type": "code",
   "execution_count": null,
   "metadata": {
    "id": "XEreoTyaPail"
   },
   "outputs": [],
   "source": [
    "x = '4'\n",
    "isinstance(x,str) and x.isnumeric()"
   ]
  },
  {
   "cell_type": "code",
   "execution_count": null,
   "metadata": {
    "id": "J1MsZ3mePafy"
   },
   "outputs": [],
   "source": [
    "# exercise: get this to work:\n",
    "# funfunfun('4',3)\n",
    "\n",
    "\n",
    "def funfunfun(x,y):\n",
    "  \n",
    "  # check if x is not a number\n",
    "  if not isinstance(x,(int,float)):\n",
    "\n",
    "    # check if x can be converted to a number\n",
    "    if isinstance(x,str) and x.isnumeric():\n",
    "      x = float(x)\n",
    "      print('Note: converted x to a float.')\n",
    "    \n",
    "    # otherwise give error message\n",
    "    else:\n",
    "      raise Exception('Input x must be a number.')\n",
    "\n",
    "  if not isinstance(y,(int,float)):\n",
    "    raise Exception('Input y must be a number.')\n",
    "\n",
    "  z = x*y\n",
    "  return z\n",
    "\n",
    "\n",
    "funfunfun('4',3)"
   ]
  },
  {
   "cell_type": "code",
   "execution_count": null,
   "metadata": {
    "id": "IKNBTWoNPacs"
   },
   "outputs": [],
   "source": [
    "# create a function that will input two numbers and output their product\n",
    "def funfun(x,y):\n",
    "  if not isinstance(x,(int,float)):\n",
    "    raise Exception('Input x must be a number.')\n",
    "  if not isinstance(y,(int,float)):\n",
    "    raise Exception('Input y must be a number.')\n",
    "  z = x*y\n",
    "  return z\n",
    "\n",
    "funfun(4,3)"
   ]
  },
  {
   "cell_type": "code",
   "execution_count": null,
   "metadata": {
    "id": "xbyL33dCPaZi"
   },
   "outputs": [],
   "source": [
    "# create a function that will input two numbers and output their product\n",
    "def funfun(x,y):\n",
    "  z = x*y\n",
    "  return z\n",
    "\n",
    "funfun(2,'hi')"
   ]
  },
  {
   "cell_type": "markdown",
   "metadata": {
    "id": "3TI65WF8KSMs"
   },
   "source": [
    "# .\n",
    "# .\n",
    "# ."
   ]
  },
  {
   "cell_type": "markdown",
   "metadata": {
    "id": "hXDzwlYDPVu1"
   },
   "source": [
    "# Function error checking and handling"
   ]
  },
  {
   "cell_type": "markdown",
   "metadata": {
    "id": "a-3Qnx4WyxCe"
   },
   "source": [
    "# Continue"
   ]
  },
  {
   "cell_type": "code",
   "execution_count": null,
   "metadata": {
    "id": "VSFoQc30yzGX"
   },
   "outputs": [],
   "source": [
    "for i in range(10):\n",
    "  if i%2==0:\n",
    "    continue\n",
    "  \n",
    "  print(i)"
   ]
  },
  {
   "cell_type": "code",
   "execution_count": null,
   "metadata": {
    "id": "KwIoIL4Yy4on"
   },
   "outputs": [],
   "source": [
    "text = 'HellO, my name is MikE.'\n",
    "\n",
    "for i in text:\n",
    "  if i in 'aeiou': # .lower()\n",
    "    continue\n",
    "  print(i)"
   ]
  },
  {
   "cell_type": "markdown",
   "metadata": {
    "id": "EzoZcnUoz8Ra"
   },
   "source": [
    "# .\n",
    "# .\n",
    "# ."
   ]
  },
  {
   "cell_type": "markdown",
   "metadata": {
    "id": "Bw0nSKUEz-pF"
   },
   "source": [
    "# .\n",
    "# .\n",
    "# ."
   ]
  },
  {
   "cell_type": "markdown",
   "metadata": {
    "id": "TBevRvSf0A1m"
   },
   "source": [
    "# VIDEO: Single-line loops"
   ]
  },
  {
   "cell_type": "code",
   "execution_count": null,
   "metadata": {
    "id": "qL1-bIP40GiE"
   },
   "outputs": [],
   "source": [
    "# reminder of single-line if-else\n",
    "\n",
    "import random\n",
    "\n",
    "if random.randint(1,10)>5: print('I like big numbers.')\n",
    "\n",
    "print('I prefer smaller numbers.') if random.randint(1,10)>5 else print('I like big numbers.')\n"
   ]
  },
  {
   "cell_type": "code",
   "execution_count": null,
   "metadata": {
    "id": "l3BuKXIF1LEU"
   },
   "outputs": [],
   "source": [
    "for i in range(10):\n",
    "  print(i**2)"
   ]
  },
  {
   "cell_type": "code",
   "execution_count": null,
   "metadata": {
    "id": "SL9KavIQ1gzq"
   },
   "outputs": [],
   "source": [
    "[print(i**2) for i in range(10)] # output None is output of print"
   ]
  },
  {
   "cell_type": "code",
   "execution_count": null,
   "metadata": {
    "id": "vuqcO6al12hp"
   },
   "outputs": [],
   "source": [
    "n = print('hi')\n",
    "print(n)"
   ]
  },
  {
   "cell_type": "code",
   "execution_count": null,
   "metadata": {
    "id": "ltS86R6u13SJ"
   },
   "outputs": [],
   "source": [
    "# list comprehension (a list from another list)\n",
    "n = [i**2-i**(1/2) for i in range(10)]\n",
    "print(n)"
   ]
  },
  {
   "cell_type": "code",
   "execution_count": null,
   "metadata": {
    "id": "fdvsvZtZ2XOg"
   },
   "outputs": [],
   "source": [
    "n = [i**2-i**(1/2) for i in range(10) if i>5]\n",
    "print(n)"
   ]
  },
  {
   "cell_type": "code",
   "execution_count": null,
   "metadata": {
    "id": "WKMFTtCi2nfH"
   },
   "outputs": [],
   "source": [
    "# Exercise (maybe in separate video?)\n",
    "# convert the following loops into single-line loops\n"
   ]
  },
  {
   "cell_type": "code",
   "execution_count": null,
   "metadata": {
    "id": "X0JOMz0k2son"
   },
   "outputs": [],
   "source": [
    "text = ['Promising','Yves','that','home','on','Nobb']\n",
    "\n",
    "for word in text:\n",
    "  print(word[0])\n",
    "\n",
    "print(' ')\n",
    "\n",
    "[print(word[0]) for word in text]; # note the #"
   ]
  },
  {
   "cell_type": "code",
   "execution_count": null,
   "metadata": {
    "id": "KcCvk90p4FTs"
   },
   "outputs": [],
   "source": [
    "# convert range to list\n",
    "\n",
    "newlist = ['']*10\n",
    "\n",
    "for i in range(10):\n",
    "  if i%2==1:\n",
    "    newlist[i] = 'Odd'\n",
    "  else:\n",
    "    newlist[i] = i\n",
    "    \n",
    "newlist"
   ]
  },
  {
   "cell_type": "code",
   "execution_count": null,
   "metadata": {
    "id": "8MBnRwQw38k9"
   },
   "outputs": [],
   "source": [
    "newlist = [ 'Odd' if i%2==1 else i for i in range(10) ] # (expression) for iterater in range\n",
    "newlist"
   ]
  },
  {
   "cell_type": "code",
   "execution_count": null,
   "metadata": {
    "id": "MP7HY4sV7e8d"
   },
   "outputs": [],
   "source": [
    "import numpy as np\n",
    "\n",
    "# exercise 2: repeat using lists and single-line for loops\n",
    "x1 = np.linspace(-3,3,11)\n",
    "y1 = x1**2\n",
    "\n",
    "x2 = [i/(5/3) for i in range(-5,6)]\n",
    "y2 = [i**2 for i in x2]\n",
    "\n",
    "print(x1)\n",
    "print(x2)\n",
    "print(' ')\n",
    "print(y1)\n",
    "print(y2)\n"
   ]
  },
  {
   "cell_type": "markdown",
   "metadata": {
    "id": "SgtkC7wZq_wK"
   },
   "source": [
    "# .\n",
    "# .\n",
    "# ."
   ]
  },
  {
   "cell_type": "markdown",
   "metadata": {
    "id": "xEL-eu87rBbf"
   },
   "source": [
    "# VIDEO: Broadcasting in numpy"
   ]
  },
  {
   "cell_type": "code",
   "execution_count": null,
   "metadata": {
    "id": "2c1Ij_zUrE7_"
   },
   "outputs": [],
   "source": [
    "import numpy as np\n",
    "\n",
    "X = np.array([[1,2,3],\n",
    "              [2,3,4],\n",
    "              [3,4,5],\n",
    "              [4,5,6]   ])\n",
    "\n",
    "w = np.array([10,20,30])\n",
    "\n",
    "# goal: add w to each row of X\n",
    "Y = X\n",
    "for i in range(X.shape[0]):\n",
    "  Y[i,:] = X[i,:] + w\n",
    "\n",
    "print(Y)\n",
    "print(' ')\n",
    "print(X)"
   ]
  },
  {
   "cell_type": "code",
   "execution_count": null,
   "metadata": {
    "id": "iN8KuNHZr-lE"
   },
   "outputs": [],
   "source": [
    "import copy\n",
    "\n",
    "X = np.array([[1,2,3],\n",
    "              [2,3,4],\n",
    "              [3,4,5],\n",
    "              [4,5,6]   ])\n",
    "\n",
    "# goal: add w to each row of X\n",
    "Y = copy.deepcopy(X)\n",
    "for i in range(X.shape[0]):\n",
    "  Y[i,:] = X[i,:] + w\n",
    "\n",
    "print(Y)\n",
    "print(' ')\n",
    "print(X)"
   ]
  },
  {
   "cell_type": "code",
   "execution_count": null,
   "metadata": {
    "id": "NwJD0M2OrygU"
   },
   "outputs": [],
   "source": [
    "# using broadcasting\n",
    "X = np.array([[1,2,3],\n",
    "              [2,3,4],\n",
    "              [3,4,5],\n",
    "              [4,5,6]   ])\n",
    "\n",
    "Y = X+w\n",
    "print(Y)\n",
    "print(' ')\n",
    "print(X)"
   ]
  },
  {
   "cell_type": "code",
   "execution_count": null,
   "metadata": {
    "id": "z8ygH7SasqVK"
   },
   "outputs": [],
   "source": [
    "w = [-1,0,1]\n",
    "v = np.array([-1,0,1,0],ndmin=2).T\n",
    "\n",
    "print(X), print(' ')\n",
    "print(X*v)"
   ]
  },
  {
   "cell_type": "code",
   "execution_count": null,
   "metadata": {
    "id": "zwHMum-krS9n"
   },
   "outputs": [],
   "source": [
    "# exercise: \n",
    "# 1) create a list of integers from 0 to 8 (v)\n",
    "# 2) reshape to a 3x3 matrix (M)\n",
    "# 3) repeat that matrix to 9x3 (C)\n",
    "# 4) broadcast-multiply with initial vector (B)\n",
    "\n",
    "# 1\n",
    "v = np.arange(9)\n",
    "print(v), print(' ')\n",
    "\n",
    "# 2\n",
    "M = np.reshape(v,(3,3))\n",
    "print(M), print(' ')\n",
    "\n",
    "# 3\n",
    "C = np.tile(M,(3,1))\n",
    "print(C), print(' ')\n",
    "\n",
    "# 4\n",
    "B = C*np.reshape(v,(len(v),1))\n",
    "print(B)"
   ]
  }
 ],
 "metadata": {
  "colab": {
   "collapsed_sections": [],
   "name": "DUDL_python_flowControl.ipynb",
   "provenance": [
    {
     "file_id": "1y9d2ZHYn2Kl-in2mbdfwmVjYLlJfMFkB",
     "timestamp": 1592755593253
    }
   ]
  },
  "kernelspec": {
   "display_name": "Python 3 (ipykernel)",
   "language": "python",
   "name": "python3"
  },
  "language_info": {
   "codemirror_mode": {
    "name": "ipython",
    "version": 3
   },
   "file_extension": ".py",
   "mimetype": "text/x-python",
   "name": "python",
   "nbconvert_exporter": "python",
   "pygments_lexer": "ipython3",
   "version": "3.11.5"
  }
 },
 "nbformat": 4,
 "nbformat_minor": 4
}
