{
 "cells": [
  {
   "cell_type": "markdown",
   "metadata": {
    "id": "TTe7qlQAqZ6E"
   },
   "source": [
    "# COURSE: deep learning\n",
    "## SECTION: Introduction to Python: indexing and slicing\n",
    "#### TEACHER: Mário Corrêa\n"
   ]
  },
  {
   "cell_type": "markdown",
   "metadata": {
    "id": "r1TPQmplqZ6F"
   },
   "source": [
    "# .\n",
    "# .\n",
    "# ."
   ]
  },
  {
   "cell_type": "markdown",
   "metadata": {
    "id": "bFhcvFHMqZ6H"
   },
   "source": [
    "# Indexing"
   ]
  },
  {
   "cell_type": "code",
   "execution_count": null,
   "metadata": {
    "id": "ngLfMelpqZ6I"
   },
   "outputs": [],
   "source": [
    "arange = range(5)\n",
    "\n",
    "arange"
   ]
  },
  {
   "cell_type": "code",
   "execution_count": null,
   "metadata": {
    "id": "CS9RWMblqZ6O"
   },
   "outputs": [],
   "source": [
    "alist = list(arange)\n",
    "alist"
   ]
  },
  {
   "cell_type": "code",
   "execution_count": null,
   "metadata": {
    "id": "qJfmnSGSqZ6R"
   },
   "outputs": [],
   "source": [
    "alist[1]"
   ]
  },
  {
   "cell_type": "code",
   "execution_count": null,
   "metadata": {
    "id": "BltB97ytqZ6U"
   },
   "outputs": [],
   "source": [
    "alist = [5,4,1,-67,343,34]\n",
    "\n",
    "alist[1]"
   ]
  },
  {
   "cell_type": "code",
   "execution_count": null,
   "metadata": {
    "id": "mdbxlEgLqZ6X"
   },
   "outputs": [],
   "source": [
    "print( alist[5] )\n",
    "\n",
    "print( alist[-1] )\n",
    "print( alist[-2] )"
   ]
  },
  {
   "cell_type": "code",
   "execution_count": null,
   "metadata": {
    "id": "0VXgCfQiqZ6a"
   },
   "outputs": [],
   "source": [
    "# can also use variables\n",
    "idx = 3\n",
    "alist[idx]"
   ]
  },
  {
   "cell_type": "code",
   "execution_count": null,
   "metadata": {
    "id": "mzw7P7JTqZ6d"
   },
   "outputs": [],
   "source": [
    "idxs = [4,2]\n",
    "alist[idxs]\n"
   ]
  },
  {
   "cell_type": "code",
   "execution_count": null,
   "metadata": {
    "id": "w5HFotAEqZ6h"
   },
   "outputs": [],
   "source": [
    "alist = [ 4,3,[4,3,5] ]\n",
    "\n",
    "alist[2][1]"
   ]
  },
  {
   "cell_type": "markdown",
   "metadata": {
    "id": "0r7hmzKJqZ6j"
   },
   "source": [
    "### Exercise"
   ]
  },
  {
   "cell_type": "code",
   "execution_count": null,
   "metadata": {
    "id": "Gl6GpabLqZ6k"
   },
   "outputs": [],
   "source": [
    "# Get the attribute of Penguin in the following list\n",
    "listlist = [ 4,'hi',[5,4,3],'yo',{'Squirrel':'cute','Penguin':'Yummy'} ]"
   ]
  },
  {
   "cell_type": "code",
   "execution_count": null,
   "metadata": {
    "id": "A0Zo5RcVqZ6n"
   },
   "outputs": [],
   "source": [
    "\n",
    "listlist[4]['Penguin']"
   ]
  },
  {
   "cell_type": "markdown",
   "metadata": {
    "id": "wWy1_RSGqZ6q"
   },
   "source": [
    "# .\n",
    "# .\n",
    "# ."
   ]
  },
  {
   "cell_type": "markdown",
   "metadata": {
    "id": "dRJCUM3vqZ6q"
   },
   "source": [
    "# Slicing, part 1"
   ]
  },
  {
   "cell_type": "code",
   "execution_count": null,
   "metadata": {
    "id": "ocw52fHCqZ6r"
   },
   "outputs": [],
   "source": [
    "alist = list( range(5,11) )\n",
    "alist"
   ]
  },
  {
   "cell_type": "code",
   "execution_count": null,
   "metadata": {
    "id": "k6vswMNKqZ6x"
   },
   "outputs": [],
   "source": [
    "print( alist[0:2] )\n",
    "print( alist[0:1] )"
   ]
  },
  {
   "cell_type": "code",
   "execution_count": null,
   "metadata": {
    "id": "F8aV8z6tqZ60"
   },
   "outputs": [],
   "source": [
    "alist[2:5]"
   ]
  },
  {
   "cell_type": "code",
   "execution_count": null,
   "metadata": {
    "id": "e1jfvAX6qZ63"
   },
   "outputs": [],
   "source": [
    "alist[2:]"
   ]
  },
  {
   "cell_type": "code",
   "execution_count": null,
   "metadata": {
    "id": "lWK3v5XLqZ66"
   },
   "outputs": [],
   "source": [
    "alist[:4]"
   ]
  },
  {
   "cell_type": "code",
   "execution_count": null,
   "metadata": {
    "id": "_nbiVdKlqZ69"
   },
   "outputs": [],
   "source": [
    "alist[::2]"
   ]
  },
  {
   "cell_type": "code",
   "execution_count": null,
   "metadata": {
    "id": "dWhnFbOEqZ7A"
   },
   "outputs": [],
   "source": [
    "# using variables\n",
    "start = 1\n",
    "stop  = 4\n",
    "skip  = 2\n",
    "\n",
    "alist[start:stop:skip]"
   ]
  },
  {
   "cell_type": "code",
   "execution_count": null,
   "metadata": {
    "id": "BC44ezTjqZ7D"
   },
   "outputs": [],
   "source": [
    "# to reverse a list\n",
    "alist[::-1]"
   ]
  },
  {
   "cell_type": "markdown",
   "metadata": {
    "id": "tSj5zH80qZ7G"
   },
   "source": [
    "### Exercise"
   ]
  },
  {
   "cell_type": "code",
   "execution_count": null,
   "metadata": {
    "id": "lxYcQCFGqZ7G"
   },
   "outputs": [],
   "source": [
    "# use slicing to write \"Mike is a nice guy\" from this text\n",
    "text = '345dfyug ecin a si ekiM 93845d'\n",
    "\n",
    "text[-8:4:-1]"
   ]
  },
  {
   "cell_type": "markdown",
   "metadata": {
    "id": "ULkZHis4qe2E"
   },
   "source": [
    "# .\n",
    "# .\n",
    "# ."
   ]
  },
  {
   "cell_type": "code",
   "execution_count": null,
   "metadata": {
    "id": "S-mk8XMSqhoJ"
   },
   "outputs": [],
   "source": [
    "# Broadcasting"
   ]
  }
 ],
 "metadata": {
  "colab": {
   "name": "DUDL_python_indexSlice.ipynb",
   "provenance": []
  },
  "kernelspec": {
   "display_name": "Python 3 (ipykernel)",
   "language": "python",
   "name": "python3"
  },
  "language_info": {
   "codemirror_mode": {
    "name": "ipython",
    "version": 3
   },
   "file_extension": ".py",
   "mimetype": "text/x-python",
   "name": "python",
   "nbconvert_exporter": "python",
   "pygments_lexer": "ipython3",
   "version": "3.11.5"
  }
 },
 "nbformat": 4,
 "nbformat_minor": 4
}
