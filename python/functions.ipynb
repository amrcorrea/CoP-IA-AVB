{
 "cells": [
  {
   "cell_type": "markdown",
   "metadata": {
    "id": "AO36t97oHVe5"
   },
   "source": [
    "# COURSE: deep learning\n",
    "## SECTION: Introduction to Python: functions\n",
    "#### TEACHER: Mário Corrêa"
   ]
  },
  {
   "cell_type": "markdown",
   "metadata": {
    "id": "AaCKuuocHVe6"
   },
   "source": [
    "# .\n",
    "# .\n",
    "# ."
   ]
  },
  {
   "cell_type": "markdown",
   "metadata": {
    "id": "nts6acjIHVe7"
   },
   "source": [
    "# Inputs and outputs"
   ]
  },
  {
   "cell_type": "code",
   "execution_count": null,
   "metadata": {
    "id": "33kbPUGtX6_7"
   },
   "outputs": [],
   "source": [
    "sum([10,20,30])"
   ]
  },
  {
   "cell_type": "code",
   "execution_count": null,
   "metadata": {
    "id": "XIMHA8j3HVe7"
   },
   "outputs": [],
   "source": [
    "alist = [2,3,4]\n",
    "\n",
    "sum(alist)"
   ]
  },
  {
   "cell_type": "code",
   "execution_count": null,
   "metadata": {
    "id": "DDx3WFPfahJt"
   },
   "outputs": [],
   "source": [
    "# alist(0)\n",
    "sum[alist]"
   ]
  },
  {
   "cell_type": "code",
   "execution_count": null,
   "metadata": {
    "id": "wPv1yRxUYLMK"
   },
   "outputs": [],
   "source": [
    "len(alist)"
   ]
  },
  {
   "cell_type": "code",
   "execution_count": null,
   "metadata": {
    "id": "Zz8Y8s4eaL3G"
   },
   "outputs": [],
   "source": [
    "# give outputs\n",
    "listsum = sum(alist)\n",
    "print('The sum is ' + str(listsum))"
   ]
  },
  {
   "cell_type": "markdown",
   "metadata": {
    "id": "Vec3xZ0XHVfA"
   },
   "source": [
    "### Exercise"
   ]
  },
  {
   "cell_type": "code",
   "execution_count": null,
   "metadata": {
    "id": "E0VaIg9wHVfB"
   },
   "outputs": [],
   "source": [
    "# compute the average\n",
    "sum(alist) / len(alist)\n"
   ]
  },
  {
   "cell_type": "markdown",
   "metadata": {
    "id": "PXwYFp8gHVfH"
   },
   "source": [
    "# .\n",
    "# .\n",
    "# ."
   ]
  },
  {
   "cell_type": "markdown",
   "metadata": {
    "id": "6C72OxAzWYFj"
   },
   "source": [
    "# Python modules (numpy, pandas)\n"
   ]
  },
  {
   "cell_type": "code",
   "execution_count": null,
   "metadata": {
    "id": "oXX5F422WgXC"
   },
   "outputs": [],
   "source": [
    "numbers = [1,2,3,4,5]\n",
    "mean(numbers)\n",
    "average(numbers)"
   ]
  },
  {
   "cell_type": "code",
   "execution_count": null,
   "metadata": {
    "id": "kl_qQM-tWYab"
   },
   "outputs": [],
   "source": [
    "import numpy as np\n",
    "\n",
    "np.mean(numbers)"
   ]
  },
  {
   "cell_type": "code",
   "execution_count": null,
   "metadata": {
    "id": "LG6ZkkyCWYeM"
   },
   "outputs": [],
   "source": [
    "np.linspace(1,5,7)"
   ]
  },
  {
   "cell_type": "code",
   "execution_count": null,
   "metadata": {
    "id": "rEwpNd0zXDwK"
   },
   "outputs": [],
   "source": [
    "# clear the workspace"
   ]
  },
  {
   "cell_type": "code",
   "execution_count": null,
   "metadata": {
    "id": "jMvSFmzMWYhr"
   },
   "outputs": [],
   "source": [
    "# new type: numpy array\n",
    "numbernp = np.array([1,2,3,4,5])\n",
    "\n",
    "print(numbernp)\n",
    "print(numbers)"
   ]
  },
  {
   "cell_type": "code",
   "execution_count": null,
   "metadata": {
    "id": "uhmFKhADWYk4"
   },
   "outputs": [],
   "source": [
    "print(type(numbernp))\n",
    "print(type(numbers))"
   ]
  },
  {
   "cell_type": "code",
   "execution_count": null,
   "metadata": {
    "id": "jQQntk65WYn0"
   },
   "outputs": [],
   "source": [
    "numberz.min()\n"
   ]
  },
  {
   "cell_type": "code",
   "execution_count": null,
   "metadata": {
    "id": "cN7fI4mjXlYJ"
   },
   "outputs": [],
   "source": [
    "n = [4,3,5,2,6,1,7]\n",
    "print(n)\n",
    "n.sort()\n",
    "print(n)"
   ]
  },
  {
   "cell_type": "code",
   "execution_count": null,
   "metadata": {
    "id": "tpsi4CAsXUrZ"
   },
   "outputs": [],
   "source": [
    "n = [4,3,5,2,6,1,7]\n",
    "print(n)\n",
    "np.sort(n)\n",
    "print(n)\n",
    "n = np.sort(n) # notice different variable type; could set back\n",
    "print(n)"
   ]
  },
  {
   "cell_type": "code",
   "execution_count": null,
   "metadata": {
    "id": "312FIMgrXUuy"
   },
   "outputs": [],
   "source": []
  },
  {
   "cell_type": "code",
   "execution_count": null,
   "metadata": {
    "id": "Djlw3QB8XUx4"
   },
   "outputs": [],
   "source": [
    "import pandas as pd\n",
    "\n",
    "# create some random data\n",
    "var1 = np.random.randn(100)*5 + 20\n",
    "var2 = np.random.randn(100)>0\n",
    "\n",
    "# variable labels\n",
    "labels = ['Temp. (C)','Ice cream']\n",
    "\n",
    "# create as a dictionary\n",
    "D = {labels[0]:var1, labels[1]:var2}\n",
    "\n",
    "# import to pandas dataframe\n",
    "df = pd.DataFrame(data=D)\n"
   ]
  },
  {
   "cell_type": "code",
   "execution_count": null,
   "metadata": {
    "id": "v9LVmVWVXU06"
   },
   "outputs": [],
   "source": [
    "df.head()"
   ]
  },
  {
   "cell_type": "code",
   "execution_count": null,
   "metadata": {
    "id": "VuKwrftYXU3p"
   },
   "outputs": [],
   "source": [
    "df.count()"
   ]
  },
  {
   "cell_type": "code",
   "execution_count": null,
   "metadata": {
    "id": "gp6O3x0IZuwv"
   },
   "outputs": [],
   "source": [
    "df.mean()"
   ]
  },
  {
   "cell_type": "markdown",
   "metadata": {
    "id": "SSdPdoHFZu3F"
   },
   "source": [
    "### Exercise"
   ]
  },
  {
   "cell_type": "code",
   "execution_count": null,
   "metadata": {
    "id": "Op7OAkKRZu50"
   },
   "outputs": [],
   "source": [
    "# create a pandas dataframe with variables: \n",
    "# integers from 0 to 10, their square, and their log\n",
    "\n",
    "nums = np.array(range(11))\n",
    "\n",
    "D = {'v1':nums , 'v2':nums**2 , 'v3':np.log(nums)}\n",
    "\n",
    "df = pd.DataFrame(D)\n",
    "df"
   ]
  },
  {
   "cell_type": "code",
   "execution_count": null,
   "metadata": {
    "id": "L1oOs1PaZu8H"
   },
   "outputs": [],
   "source": []
  },
  {
   "cell_type": "markdown",
   "metadata": {
    "id": "TF8JJyIUHVfH"
   },
   "source": [
    "# Getting help on functions"
   ]
  },
  {
   "cell_type": "code",
   "execution_count": null,
   "metadata": {
    "id": "jBjOYTZ_HVfI"
   },
   "outputs": [],
   "source": [
    "alist = [1,2,3]\n",
    "\n",
    "sum(alist,10)"
   ]
  },
  {
   "cell_type": "code",
   "execution_count": null,
   "metadata": {
    "id": "Aq6Q8yfWHVfc"
   },
   "outputs": [],
   "source": [
    "sum??"
   ]
  },
  {
   "cell_type": "code",
   "execution_count": null,
   "metadata": {
    "id": "wyIf-KJU6V-w"
   },
   "outputs": [],
   "source": [
    "help(sum)"
   ]
  },
  {
   "cell_type": "code",
   "execution_count": null,
   "metadata": {
    "id": "dN8SF167blYz"
   },
   "outputs": [],
   "source": [
    "# advanced method\n",
    "\n",
    "import inspect\n",
    "import numpy as np\n",
    "inspect.getsourcelines(np.linspace)"
   ]
  },
  {
   "cell_type": "code",
   "execution_count": null,
   "metadata": {
    "id": "CXMUFZgKc86c"
   },
   "outputs": [],
   "source": [
    "sum('test')"
   ]
  },
  {
   "cell_type": "markdown",
   "metadata": {
    "id": "bY1rgwxQHVff"
   },
   "source": [
    "# . \n",
    "# . \n",
    "# . "
   ]
  },
  {
   "cell_type": "markdown",
   "metadata": {
    "id": "YKb7zEreHVff"
   },
   "source": [
    "# Creating functions"
   ]
  },
  {
   "cell_type": "code",
   "execution_count": null,
   "metadata": {
    "id": "97G57cZ9ddOo"
   },
   "outputs": [],
   "source": [
    "def awesomeFunction():\n",
    "  print(1+1)"
   ]
  },
  {
   "cell_type": "code",
   "execution_count": null,
   "metadata": {
    "id": "8KZU9mtmeuGA"
   },
   "outputs": [],
   "source": [
    "awesomeFunction\n",
    "awesomeFunction()"
   ]
  },
  {
   "cell_type": "code",
   "execution_count": null,
   "metadata": {
    "id": "XVeHn1vbe09d"
   },
   "outputs": [],
   "source": [
    "def SuperAwesomeFunction(input1,input2):\n",
    "  return input1 + input2"
   ]
  },
  {
   "cell_type": "code",
   "execution_count": null,
   "metadata": {
    "id": "TWsLp1hIfIM8"
   },
   "outputs": [],
   "source": [
    "SuperAwesomeFunction(5,8)"
   ]
  },
  {
   "cell_type": "code",
   "execution_count": null,
   "metadata": {
    "id": "D50q9RWvfKfE"
   },
   "outputs": [],
   "source": [
    "answer = SuperAwesomeFunction(5,8)\n"
   ]
  },
  {
   "cell_type": "code",
   "execution_count": null,
   "metadata": {
    "id": "uNDzCSG7fPEk"
   },
   "outputs": [],
   "source": [
    "print(answer)"
   ]
  },
  {
   "cell_type": "code",
   "execution_count": null,
   "metadata": {
    "id": "Y6ozALuNfQBE"
   },
   "outputs": [],
   "source": [
    "# with multiple outputs\n",
    "def awesomeFunction(in1,in2):\n",
    "  sumres = in1+in2\n",
    "  prodres = in1*in2\n",
    "  print('Their sum is ' + str(sumres))\n",
    "  print('Their product is ' + str(prodres))\n",
    "  return sumres,prodres"
   ]
  },
  {
   "cell_type": "code",
   "execution_count": null,
   "metadata": {
    "id": "hFuBn4y0VcNU"
   },
   "outputs": [],
   "source": [
    "out1,out2 = awesomeFunction(4,5)\n",
    "\n",
    "print(out1,out2)"
   ]
  },
  {
   "cell_type": "code",
   "execution_count": null,
   "metadata": {
    "id": "TJpxAc_StYbR"
   },
   "outputs": [],
   "source": [
    "# lambda functions\n",
    "\n",
    "littlefun = lambda x : x**2 - 1\n",
    "\n",
    "littlefun(4)"
   ]
  },
  {
   "cell_type": "markdown",
   "metadata": {
    "id": "P-gJ5dCuVpOU"
   },
   "source": [
    "### Exercise"
   ]
  },
  {
   "cell_type": "code",
   "execution_count": null,
   "metadata": {
    "id": "I9kbuPglotnx"
   },
   "outputs": [],
   "source": [
    "# create a function that computes a factorial, \n",
    "# then compare against the numpy factorial function\n",
    "# hint: import math\n",
    "\n",
    "def myfactorial(val):\n",
    "  return np.prod(np.arange(1,val+1))\n"
   ]
  },
  {
   "cell_type": "code",
   "execution_count": null,
   "metadata": {
    "id": "iUPn1M01o_1h"
   },
   "outputs": [],
   "source": [
    "import math\n",
    "\n",
    "x = 20 # inaccurate for >~21\n",
    "print(np.arange(1,x+1))\n",
    "\n",
    "print(myfactorial(x),math.factorial(x))\n",
    "math.factorial??\n"
   ]
  },
  {
   "cell_type": "code",
   "execution_count": null,
   "metadata": {
    "id": "PC1KqCiirC21"
   },
   "outputs": [],
   "source": []
  },
  {
   "cell_type": "markdown",
   "metadata": {
    "id": "mmUqDLmwrDlJ"
   },
   "source": [
    "# .\n",
    "# .\n",
    "# ."
   ]
  },
  {
   "cell_type": "markdown",
   "metadata": {
    "id": "QnLbGbcVrGLy"
   },
   "source": [
    "# Global and local variable scopes\n",
    "\n",
    "\n"
   ]
  },
  {
   "cell_type": "code",
   "execution_count": null,
   "metadata": {
    "id": "Vsmbf4VPrN1j"
   },
   "outputs": [],
   "source": [
    "# clear the workspace"
   ]
  },
  {
   "cell_type": "code",
   "execution_count": null,
   "metadata": {
    "id": "Vj08-pssrKg7"
   },
   "outputs": [],
   "source": [
    "def funfun():\n",
    "  x = 7\n",
    "  y = 10\n",
    "  print(x)\n"
   ]
  },
  {
   "cell_type": "code",
   "execution_count": null,
   "metadata": {
    "id": "hSQRZTvYuu3t"
   },
   "outputs": [],
   "source": [
    "funfun()"
   ]
  },
  {
   "cell_type": "code",
   "execution_count": null,
   "metadata": {
    "id": "q_aIpWdsu8Ds"
   },
   "outputs": [],
   "source": [
    "x"
   ]
  },
  {
   "cell_type": "code",
   "execution_count": null,
   "metadata": {
    "id": "tHHtdAk5uwh1"
   },
   "outputs": [],
   "source": [
    "x = 3\n",
    "print( funfun() )\n",
    "print( x )\n",
    "print( y )"
   ]
  },
  {
   "cell_type": "code",
   "execution_count": null,
   "metadata": {
    "id": "KRQo1GVmu5bt"
   },
   "outputs": [],
   "source": [
    "def funfun():\n",
    "  print(z)\n"
   ]
  },
  {
   "cell_type": "code",
   "execution_count": null,
   "metadata": {
    "id": "Uv8o3Ms0vjaz"
   },
   "outputs": [],
   "source": [
    "funfun()"
   ]
  },
  {
   "cell_type": "code",
   "execution_count": null,
   "metadata": {
    "id": "ZTf8b7GEvkyz"
   },
   "outputs": [],
   "source": [
    "z = 3\n",
    "funfun()"
   ]
  },
  {
   "cell_type": "code",
   "execution_count": null,
   "metadata": {
    "id": "UugCf6XQvnBL"
   },
   "outputs": [],
   "source": [
    "# rules: \n",
    "#  1) variables created inside a function are local (accessible only inside the function)\n",
    "#  2) variables created outside a function are global (accessible in or out of the function)"
   ]
  },
  {
   "cell_type": "markdown",
   "metadata": {
    "id": "jrXtsztmv_K0"
   },
   "source": [
    "### Exercise"
   ]
  },
  {
   "cell_type": "code",
   "execution_count": null,
   "metadata": {
    "id": "YpdI5XDNyW9w"
   },
   "outputs": [],
   "source": [
    "# write a function that flips a coin N times and reports the average\n",
    "\n",
    "import numpy as np\n",
    "\n",
    "def coinflip(N):\n",
    "  propCoinFlips = np.mean( np.random.randn(N)>0 )\n",
    "  print( str(N) + ' coin flips had ' + str(propCoinFlips*100) + '% heads.' )"
   ]
  },
  {
   "cell_type": "code",
   "execution_count": null,
   "metadata": {
    "id": "q_-9X--ryly_"
   },
   "outputs": [],
   "source": [
    "coinflip(2000)"
   ]
  },
  {
   "cell_type": "markdown",
   "metadata": {
    "id": "XMZ0tQvimnkp"
   },
   "source": [
    "# .\n",
    "# .\n",
    "# ."
   ]
  },
  {
   "cell_type": "code",
   "execution_count": null,
   "metadata": {
    "id": "CErexwD7J9Jf"
   },
   "outputs": [],
   "source": []
  },
  {
   "cell_type": "code",
   "execution_count": null,
   "metadata": {
    "id": "c9SBnSWjYwBm"
   },
   "outputs": [],
   "source": []
  },
  {
   "cell_type": "code",
   "execution_count": null,
   "metadata": {
    "colab": {
     "base_uri": "https://localhost:8080/"
    },
    "executionInfo": {
     "elapsed": 191,
     "status": "ok",
     "timestamp": 1621927521203,
     "user": {
      "displayName": "Mike X Cohen",
      "photoUrl": "https://lh3.googleusercontent.com/a-/AOh14GhjXSur8ulydyiQQEh2U6pYGIhDN22fqYYNNDg49A=s64",
      "userId": "13901636194183843661"
     },
     "user_tz": -120
    },
    "id": "sKxUPiYAYwFt",
    "outputId": "477bbee3-a671-448d-feac-f49e10603350"
   },
   "outputs": [],
   "source": [
    "# tangent on copy\n",
    "\n",
    "a = [4,3]\n",
    "b = a#[:]\n",
    "b[0] = 5\n",
    "\n",
    "print(a)\n",
    "print(b)"
   ]
  },
  {
   "cell_type": "code",
   "execution_count": null,
   "metadata": {
    "colab": {
     "base_uri": "https://localhost:8080/"
    },
    "executionInfo": {
     "elapsed": 181,
     "status": "ok",
     "timestamp": 1621927528471,
     "user": {
      "displayName": "Mike X Cohen",
      "photoUrl": "https://lh3.googleusercontent.com/a-/AOh14GhjXSur8ulydyiQQEh2U6pYGIhDN22fqYYNNDg49A=s64",
      "userId": "13901636194183843661"
     },
     "user_tz": -120
    },
    "id": "VAKNE1LRYwJM",
    "outputId": "9153bcb5-4f9c-48e3-e736-ed550e99d805"
   },
   "outputs": [],
   "source": [
    "print(id(a))\n",
    "print(id(b))"
   ]
  },
  {
   "cell_type": "code",
   "execution_count": null,
   "metadata": {
    "colab": {
     "base_uri": "https://localhost:8080/"
    },
    "executionInfo": {
     "elapsed": 180,
     "status": "ok",
     "timestamp": 1621927544212,
     "user": {
      "displayName": "Mike X Cohen",
      "photoUrl": "https://lh3.googleusercontent.com/a-/AOh14GhjXSur8ulydyiQQEh2U6pYGIhDN22fqYYNNDg49A=s64",
      "userId": "13901636194183843661"
     },
     "user_tz": -120
    },
    "id": "ksnrXeq-ZZmk",
    "outputId": "dd957b77-46fe-4a63-8cd6-2a569c975d6d"
   },
   "outputs": [],
   "source": [
    "import copy\n",
    "\n",
    "a = {'q':1, 'w':2}\n",
    "b = copy.deepcopy(a)\n",
    "\n",
    "print(id(a))\n",
    "print(id(b))"
   ]
  },
  {
   "cell_type": "code",
   "execution_count": null,
   "metadata": {
    "id": "fDzfNQDhYwMu"
   },
   "outputs": [],
   "source": []
  },
  {
   "cell_type": "code",
   "execution_count": null,
   "metadata": {
    "id": "JpkUta0DYwP0"
   },
   "outputs": [],
   "source": []
  },
  {
   "cell_type": "code",
   "execution_count": null,
   "metadata": {
    "id": "1qJPyxmVYwTE"
   },
   "outputs": [],
   "source": []
  },
  {
   "cell_type": "code",
   "execution_count": null,
   "metadata": {
    "id": "Gp4BqISTYwWd"
   },
   "outputs": [],
   "source": []
  },
  {
   "cell_type": "markdown",
   "metadata": {
    "id": "bJ9k8CvFmqkY"
   },
   "source": [
    "# Classes and object-oriented programming"
   ]
  },
  {
   "cell_type": "code",
   "execution_count": null,
   "metadata": {
    "executionInfo": {
     "elapsed": 7,
     "status": "ok",
     "timestamp": 1629449409576,
     "user": {
      "displayName": "Mike X Cohen",
      "photoUrl": "https://lh3.googleusercontent.com/a-/AOh14GhjXSur8ulydyiQQEh2U6pYGIhDN22fqYYNNDg49A=s64",
      "userId": "13901636194183843661"
     },
     "user_tz": -120
    },
    "id": "Rm92iYCo5MrU"
   },
   "outputs": [],
   "source": [
    "# class is like a blueprint for a set of attributes and methods\n",
    "# instance is an example\n",
    "# class is a cookie cutter, instance is an individual cookie\n",
    "\n",
    "class model(object):\n",
    "\n",
    "  # constructor method\n",
    "  def __init__(self,numlayers,numunits,name):\n",
    "    self.layers  = numlayers\n",
    "    self.units   = numunits # these are attributes\n",
    "    self.name    = name\n",
    "    self.weights = 10\n",
    "  \n",
    "  # other methods\n",
    "  def howManyUnits(self):\n",
    "    totalUnits = self.layers * self.units\n",
    "    print(f'There are {totalUnits} units in the model.')\n",
    "\n",
    "  def trainTheModel(self,x):\n",
    "    self.weights += x\n",
    "    return self.weights\n",
    "\n",
    "  def __str__(self):\n",
    "    return f'This is a {self.name} architecture.'\n"
   ]
  },
  {
   "cell_type": "code",
   "execution_count": null,
   "metadata": {
    "colab": {
     "base_uri": "https://localhost:8080/",
     "height": 35
    },
    "executionInfo": {
     "elapsed": 183,
     "status": "ok",
     "timestamp": 1622019930854,
     "user": {
      "displayName": "Mike X Cohen",
      "photoUrl": "https://lh3.googleusercontent.com/a-/AOh14GhjXSur8ulydyiQQEh2U6pYGIhDN22fqYYNNDg49A=s64",
      "userId": "13901636194183843661"
     },
     "user_tz": -120
    },
    "id": "5RXhwn5R6HwD",
    "outputId": "dae7d41d-f463-4016-fd38-1590e42ec1ca"
   },
   "outputs": [],
   "source": [
    "# create an instance and check it\n",
    "ex = model(2,3,'cnn')\n",
    "# ex.howManyUnits()\n",
    "str(ex)"
   ]
  },
  {
   "cell_type": "code",
   "execution_count": null,
   "metadata": {
    "colab": {
     "base_uri": "https://localhost:8080/"
    },
    "executionInfo": {
     "elapsed": 180,
     "status": "ok",
     "timestamp": 1622019948704,
     "user": {
      "displayName": "Mike X Cohen",
      "photoUrl": "https://lh3.googleusercontent.com/a-/AOh14GhjXSur8ulydyiQQEh2U6pYGIhDN22fqYYNNDg49A=s64",
      "userId": "13901636194183843661"
     },
     "user_tz": -120
    },
    "id": "8zpSRXZL6_kD",
    "outputId": "24921e71-a523-42c2-e573-c20247e3e46b"
   },
   "outputs": [],
   "source": [
    "ex.trainTheModel(3)"
   ]
  },
  {
   "cell_type": "code",
   "execution_count": null,
   "metadata": {
    "id": "lx-JbMKQsQMr"
   },
   "outputs": [],
   "source": [
    "# Exercise: \n",
    "# create a new class so that \n",
    "# 1) the weights is a layers-by-units matrix, \n",
    "# 2) the weights are changed by multiplying by input x and summing input y"
   ]
  },
  {
   "cell_type": "code",
   "execution_count": null,
   "metadata": {
    "id": "Cq0lypuNEA7a"
   },
   "outputs": [],
   "source": [
    "import numpy as np\n",
    "class model2(object):\n",
    "\n",
    "  # constructor method\n",
    "  def __init__(self,numlayers,numunits,name):\n",
    "    self.layers  = numlayers\n",
    "    self.units   = numunits # these are attributes\n",
    "    self.name    = name\n",
    "    self.weights = np.random.randn(numlayers,self.units)\n",
    "  \n",
    "  # other methods\n",
    "  def howManyUnits(self):\n",
    "    totalUnits = self.layers * self.units\n",
    "    print(f'There are {totalUnits} units in the model.')\n",
    "\n",
    "  def trainTheModel(self,x,y):\n",
    "    self.weights = self.weights*x + y\n",
    "\n",
    "  def __str__(self):\n",
    "    return f'This is a {self.name} architecture.'\n"
   ]
  },
  {
   "cell_type": "code",
   "execution_count": null,
   "metadata": {
    "colab": {
     "base_uri": "https://localhost:8080/"
    },
    "executionInfo": {
     "elapsed": 188,
     "status": "ok",
     "timestamp": 1622020346309,
     "user": {
      "displayName": "Mike X Cohen",
      "photoUrl": "https://lh3.googleusercontent.com/a-/AOh14GhjXSur8ulydyiQQEh2U6pYGIhDN22fqYYNNDg49A=s64",
      "userId": "13901636194183843661"
     },
     "user_tz": -120
    },
    "id": "wf1KhWc1EBOn",
    "outputId": "64bccc86-f8e1-410e-900a-e495e1041adb"
   },
   "outputs": [],
   "source": [
    "ex1 = model2(2,3,'cnn')\n",
    "print(ex1.weights)"
   ]
  },
  {
   "cell_type": "code",
   "execution_count": null,
   "metadata": {
    "id": "BjDaJF1uEBc3"
   },
   "outputs": [],
   "source": [
    "ex1.trainTheModel(2,3)"
   ]
  },
  {
   "cell_type": "code",
   "execution_count": null,
   "metadata": {
    "colab": {
     "base_uri": "https://localhost:8080/"
    },
    "executionInfo": {
     "elapsed": 188,
     "status": "ok",
     "timestamp": 1622020353031,
     "user": {
      "displayName": "Mike X Cohen",
      "photoUrl": "https://lh3.googleusercontent.com/a-/AOh14GhjXSur8ulydyiQQEh2U6pYGIhDN22fqYYNNDg49A=s64",
      "userId": "13901636194183843661"
     },
     "user_tz": -120
    },
    "id": "HCNHAYmOEB_8",
    "outputId": "7ec3c058-af25-44a1-9b1f-31b3924832df"
   },
   "outputs": [],
   "source": [
    "ex1.weights"
   ]
  }
 ],
 "metadata": {
  "colab": {
   "collapsed_sections": [],
   "name": "DUDL_python_functions.ipynb",
   "provenance": []
  },
  "kernelspec": {
   "display_name": "Python 3 (ipykernel)",
   "language": "python",
   "name": "python3"
  },
  "language_info": {
   "codemirror_mode": {
    "name": "ipython",
    "version": 3
   },
   "file_extension": ".py",
   "mimetype": "text/x-python",
   "name": "python",
   "nbconvert_exporter": "python",
   "pygments_lexer": "ipython3",
   "version": "3.11.5"
  }
 },
 "nbformat": 4,
 "nbformat_minor": 4
}
